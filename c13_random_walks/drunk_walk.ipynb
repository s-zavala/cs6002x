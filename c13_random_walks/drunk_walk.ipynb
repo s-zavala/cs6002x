{
 "cells": [
  {
   "cell_type": "markdown",
   "metadata": {},
   "source": [
    "# 13 Random walks and more data visualization"
   ]
  },
  {
   "cell_type": "markdown",
   "metadata": {},
   "source": [
    "A **random walk** is a stochastic process that describes a path made of a succession of random steps. An example is **Brownian motion**, named for botanist Robert Brown's observations of pollen particles pooling in water."
   ]
  },
  {
   "cell_type": "markdown",
   "metadata": {},
   "source": [
    "## 13.1 Drunken walk"
   ]
  },
  {
   "cell_type": "markdown",
   "metadata": {},
   "source": [
    "- A drunk farmer is standing at origin in Cartesian space.\n",
    "- At each time increment the farmer takes a step of length one & parallel to the x-axis or y-axis.\n",
    "- What is the expected distance from origin after 1000 steps?"
   ]
  },
  {
   "cell_type": "code",
   "execution_count": 1,
   "metadata": {},
   "outputs": [],
   "source": [
    "import random"
   ]
  },
  {
   "cell_type": "code",
   "execution_count": 20,
   "metadata": {},
   "outputs": [],
   "source": [
    "import pylab as pl"
   ]
  },
  {
   "cell_type": "code",
   "execution_count": 2,
   "metadata": {},
   "outputs": [],
   "source": [
    "class Location(object):\n",
    "\n",
    "    def __init__(self, x, y):\n",
    "        \"\"\"x and y are floats\"\"\"\n",
    "        self.x = x\n",
    "        self.y = y\n",
    "    \n",
    "    def move(self, deltaX, deltaY):\n",
    "        \"\"\"deltaX and deltaY are floats\"\"\"\n",
    "        return Location(self.x + deltaX, self.y + deltaY)\n",
    "    \n",
    "    def getX(self):\n",
    "        return self.x\n",
    "    \n",
    "    def getY(self):\n",
    "        return self.y\n",
    "    \n",
    "    def distFrom(self, other):\n",
    "        ox = other.x\n",
    "        oy = other.y\n",
    "        xDist = self.x - ox\n",
    "        yDist = self.y - oy\n",
    "        return (xDist**2 + yDist**2)**0.5\n",
    "    \n",
    "    def __str__(self):\n",
    "        return \"<\" + str(self.x) + \", \" + str(self.y) + \">\""
   ]
  },
  {
   "cell_type": "code",
   "execution_count": 3,
   "metadata": {},
   "outputs": [],
   "source": [
    "class Field(object):\n",
    "\n",
    "    def __init__(self):\n",
    "        self.drunks = {}\n",
    "    \n",
    "    def addDrunk(self, drunk, loc):\n",
    "        if drunk in self.drunks:\n",
    "            raise ValueError('Duplicate drunk')\n",
    "        else:\n",
    "            self.drunks[drunk] = loc\n",
    "    \n",
    "    def moveDrunk(self, drunk):\n",
    "        if drunk not in self.drunks:\n",
    "            raise ValueError('Drunk not in field')\n",
    "        xDist, yDist = drunk.takeStep()\n",
    "        currentLocation = self.drunks[drunk]\n",
    "        # Use move method of Location to get new location.\n",
    "        self.drunks[drunk] = currentLocation.move(xDist, yDist)\n",
    "    \n",
    "    def getLoc(self, drunk):\n",
    "        if drunk not in self.drunks:\n",
    "            raise ValueError('Drunk not in field')\n",
    "        return self.drunks[drunk]\n",
    "    "
   ]
  },
  {
   "cell_type": "code",
   "execution_count": 4,
   "metadata": {},
   "outputs": [],
   "source": [
    "class Drunk(object):\n",
    "\n",
    "    def __init__(self, name=None):\n",
    "        self.name = name\n",
    "    \n",
    "    def __str__(self):\n",
    "        if self != None:\n",
    "            return self.name\n",
    "        return 'Anonymous'\n",
    "    \n",
    "class UsualDrunk(Drunk):\n",
    "    def takeStep(self):\n",
    "        stepChoices = [\n",
    "            (0.0, 1.0),\n",
    "            (0.0, -1.0),\n",
    "            (1.0, 0.0),\n",
    "            (-1.0, 0.0)\n",
    "        ]\n",
    "        return random.choice(stepChoices)"
   ]
  },
  {
   "cell_type": "code",
   "execution_count": 30,
   "metadata": {},
   "outputs": [],
   "source": [
    "def walk(f, d, numSteps: int):\n",
    "    \"\"\"\n",
    "    f: a Field\n",
    "    d: a Drunk\n",
    "    numStems >= 0\n",
    "    Moves d numSteps times.\n",
    "    Returns the distance between the final location and the start.\n",
    "    \"\"\"\n",
    "    start = f.getLoc(d)\n",
    "    for s in range(numSteps):\n",
    "        f.moveDrunk(d)\n",
    "    return start.distFrom(f.getLoc(d))\n",
    "\n",
    "def simWalks(numSteps: int, numTrials: int, dClass):\n",
    "    \"\"\"\n",
    "    numSteps >= 0\n",
    "    numTrials > 0\n",
    "    dClass: subclass of Drunk\n",
    "    Simulate numTrials walks of numSteps steps each.\n",
    "    Return a list of the final distances for each trial.\n",
    "    \"\"\"\n",
    "    Homer = dClass()\n",
    "    origin = Location(0.0, 0.0)\n",
    "    distances = []\n",
    "    for t in range(numTrials):\n",
    "        f = Field()\n",
    "        f.addDrunk(Homer, origin)\n",
    "        distances.append(walk(f, Homer, numSteps))\n",
    "    return distances\n",
    "\n",
    "def drunkTest(walkLengths, numTrials: int, dClass):\n",
    "    \"\"\"\n",
    "    walkLengths: iterable of ints >= 0\n",
    "    numTrials > 0\n",
    "    dClass: subclass of Drunk\n",
    "    For each value in walkLengths, run simWalks with numTrials walks.\n",
    "    Print results\n",
    "    \"\"\"\n",
    "    meanDistances = []\n",
    "    for numSteps in walkLengths:\n",
    "        distances = simWalks(numSteps, numTrials, dClass)\n",
    "        meanDistances.append(sum(distances)/len(distances))\n",
    "    pl.title('Average Distance from Origin(100 trials)')\n",
    "    pl.xlabel('Number of Steps')\n",
    "    pl.ylabel('Distance from Origin')\n",
    "    pl.semilogx()\n",
    "    pl.semilogy()\n",
    "    pl.plot(walkLengths, meanDistances)\n",
    "    \n"
   ]
  },
  {
   "cell_type": "code",
   "execution_count": 10,
   "metadata": {},
   "outputs": [],
   "source": [
    "def stdDev(X):\n",
    "    mean = float(sum(X))/len(X)\n",
    "    tot = 0.0\n",
    "    for x in X:\n",
    "        tot += (x-mean)**2\n",
    "    return (tot/len(X))**0.5"
   ]
  },
  {
   "cell_type": "code",
   "execution_count": 11,
   "metadata": {},
   "outputs": [],
   "source": [
    "def CV(X):\n",
    "    mean = sum(X) / float(len(X))\n",
    "    try:\n",
    "        return stdDev(X)/mean\n",
    "    except ZeroDivisionError:\n",
    "        return float(\"nan\")"
   ]
  },
  {
   "cell_type": "code",
   "execution_count": 31,
   "metadata": {},
   "outputs": [
    {
     "data": {
      "image/png": "[encoded data removed]",
      "text/plain": [
       "<Figure size 432x288 with 1 Axes>"
      ]
     },
     "metadata": {
      "needs_background": "light"
     },
     "output_type": "display_data"
    }
   ],
   "source": [
    "numIter = [2**exp for exp in range(2,15)]\n",
    "drunkTest(numIter, 100, UsualDrunk)"
   ]
  },
  {
   "cell_type": "markdown",
   "metadata": {},
   "source": [
    "Does this plot provide any information about the expected final location? On average the drunk will be somewhere on a circle with the center at origin and a radius of the expected distance from origin. However, it tells us little about the final location."
   ]
  },
  {
   "cell_type": "code",
   "execution_count": null,
   "metadata": {},
   "outputs": [],
   "source": []
  }
 ],
 "metadata": {
  "kernelspec": {
   "display_name": "Python 3.9.8 64-bit ('ml9')",
   "language": "python",
   "name": "python3"
  },
  "language_info": {
   "codemirror_mode": {
    "name": "ipython",
    "version": 3
   },
   "file_extension": ".py",
   "mimetype": "text/x-python",
   "name": "python",
   "nbconvert_exporter": "python",
   "pygments_lexer": "ipython3",
   "version": "3.9.8"
  },
  "orig_nbformat": 4,
  "vscode": {
   "interpreter": {
    "hash": "79a35d8e6ede5ae0863223e5de935f6394aa89b85082ade4d03f7d5691426e13"
   }
  }
 },
 "nbformat": 4,
 "nbformat_minor": 2
}
